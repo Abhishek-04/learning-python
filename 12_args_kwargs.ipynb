{
 "cells": [
  {
   "cell_type": "markdown",
   "metadata": {},
   "source": [
    "# Learn Python by doing #12\n",
    "## \\*args and \\**kwargs\n",
    "\n",
    "* In Python, we can pass a variable number of arguments to a function using some special symbols:\n",
    "    1. *args (non-keyword arguments)\n",
    "    2. **kwargs (keyword arguments)"
   ]
  },
  {
   "cell_type": "markdown",
   "metadata": {},
   "source": [
    "## \\*args\n",
    "\n",
    "It allows us to pass a variable number of parameters, which will be encapsulated in a tuple."
   ]
  },
  {
   "cell_type": "code",
   "execution_count": 38,
   "metadata": {},
   "outputs": [],
   "source": [
    "def add(*args):\n",
    "    print(args)\n",
    "    return sum(args)"
   ]
  },
  {
   "cell_type": "code",
   "execution_count": 39,
   "metadata": {},
   "outputs": [
    {
     "name": "stdout",
     "output_type": "stream",
     "text": [
      "(1, 4, 6, 8, 3)\n"
     ]
    },
    {
     "data": {
      "text/plain": [
       "22"
      ]
     },
     "execution_count": 39,
     "metadata": {},
     "output_type": "execute_result"
    }
   ],
   "source": [
    "add(1,4,6,8,3)"
   ]
  },
  {
   "cell_type": "markdown",
   "metadata": {},
   "source": [
    "## \\**kwargs\n",
    "\n",
    "Python can pass a variable number of keyword arguments using **\\*\\*kwargs**."
   ]
  },
  {
   "cell_type": "code",
   "execution_count": 36,
   "metadata": {},
   "outputs": [],
   "source": [
    "def print_fruits(**kwargs):\n",
    "    print(kwargs)\n",
    "    for key, value in kwargs.items():\n",
    "        print(key, value)"
   ]
  },
  {
   "cell_type": "code",
   "execution_count": 37,
   "metadata": {},
   "outputs": [
    {
     "name": "stdout",
     "output_type": "stream",
     "text": [
      "{'apple': 60, 'watermelon': 100, 'grapes': 200}\n",
      "apple 60\n",
      "watermelon 100\n",
      "grapes 200\n"
     ]
    }
   ],
   "source": [
    "print_fruits(apple=60, watermelon=100, grapes=200)"
   ]
  },
  {
   "cell_type": "code",
   "execution_count": null,
   "metadata": {},
   "outputs": [],
   "source": []
  }
 ],
 "metadata": {
  "kernelspec": {
   "display_name": "Python 3",
   "language": "python",
   "name": "python3"
  },
  "language_info": {
   "codemirror_mode": {
    "name": "ipython",
    "version": 3
   },
   "file_extension": ".py",
   "mimetype": "text/x-python",
   "name": "python",
   "nbconvert_exporter": "python",
   "pygments_lexer": "ipython3",
   "version": "3.6.9"
  }
 },
 "nbformat": 4,
 "nbformat_minor": 4
}
