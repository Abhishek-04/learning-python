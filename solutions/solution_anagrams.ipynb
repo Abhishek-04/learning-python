{
 "cells": [
  {
   "cell_type": "markdown",
   "metadata": {},
   "source": [
    "# Anagrams\n",
    "\n",
    "You will write a function that receives a word and a list of words and stay with all of those words in the list that are anagrams of the word passed. \n",
    "``` \n",
    "Input:\n",
    "First argument: \"code\"\n",
    "Second argument: [\"code\", \"deco\", \"ecod\", \"first\", \"strif\", \"frist\"]\n",
    "Output:\n",
    "[\"code\", \"deco\", \"ecod\"]\n",
    "```"
   ]
  },
  {
   "cell_type": "code",
   "execution_count": 1,
   "metadata": {},
   "outputs": [],
   "source": [
    "def find_anagrams(word, list_of_words):\n",
    "    sorted_word = sorted(word)\n",
    "    # code -> cdeo\n",
    "    return list(filter(lambda x: sorted(x) == sorted_word, list_of_words))"
   ]
  },
  {
   "cell_type": "code",
   "execution_count": 2,
   "metadata": {},
   "outputs": [
    {
     "data": {
      "text/plain": [
       "['code', 'deco', 'ecod']"
      ]
     },
     "execution_count": 2,
     "metadata": {},
     "output_type": "execute_result"
    }
   ],
   "source": [
    "find_anagrams(\"code\", [\"code\", \"deco\", \"ecod\", \"first\", \"strif\", \"frist\"])"
   ]
  },
  {
   "cell_type": "code",
   "execution_count": null,
   "metadata": {},
   "outputs": [],
   "source": []
  }
 ],
 "metadata": {
  "kernelspec": {
   "display_name": "Python 3",
   "language": "python",
   "name": "python3"
  },
  "language_info": {
   "codemirror_mode": {
    "name": "ipython",
    "version": 3
   },
   "file_extension": ".py",
   "mimetype": "text/x-python",
   "name": "python",
   "nbconvert_exporter": "python",
   "pygments_lexer": "ipython3",
   "version": "3.8.2"
  }
 },
 "nbformat": 4,
 "nbformat_minor": 4
}
