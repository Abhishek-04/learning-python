{
 "cells": [
  {
   "cell_type": "markdown",
   "metadata": {},
   "source": [
    "# Transforming data formats\n",
    "\n",
    "The reduce function is extremely useful to transform data structures. When I say data structure, I am not talking about queues, linked lists and all of those things. I am talking about how a dataset is presented (or structured). For example, suppose we have a list of dictionaries like this:\n",
    "\n",
    "```\n",
    "invitees = [{\"email\": \"alex@example.com\", \"name\": \"Alex\", \"status\": \"attending\"},\n",
    "{\"email\": \"brian@example.com\", \"name\": \"Brian\", \"status\": \"declined\"},\n",
    "{\"email\": \"carol@example.com\", \"name\": \"Carol\", \"status\": \"pending\"},\n",
    "{\"email\": \"david@example.com\", \"name\": \"David\", \"status\": \"attending\"},\n",
    "{\"email\": \"maria@example.com\", \"name\": \"Maria\", \"status\": \"attending\"}]\n",
    "```\n",
    "\n",
    "You want to transform this list of dictionaries to a single dictionary like this:\n",
    "\n",
    "```\n",
    "{\"alex@example.com\": \"attending\",\n",
    "\"brian@example.com\": \"declined\",\n",
    "\"carol@example.com\": \"pending\",\n",
    "\"david@example.com\": \"attending\",\n",
    "\"maria@example.com\": \"attending\"}\n",
    "```\n",
    "\n",
    "Here, the reduce function can help. You just have to write an adequate function (maybe using a lambda function won't work here) and pass it to the reduce function, along with the invitees list and an empty dictionary as the initializer.\n",
    "\n",
    "Give it a try!"
   ]
  },
  {
   "cell_type": "code",
   "execution_count": 14,
   "metadata": {},
   "outputs": [],
   "source": [
    "from functools import reduce"
   ]
  },
  {
   "cell_type": "code",
   "execution_count": 15,
   "metadata": {},
   "outputs": [],
   "source": [
    "def transform_invitees_data(invitees):\n",
    "    def transform_data(acc, invitee):\n",
    "        acc[invitee[\"email\"]] = invitee[\"status\"]\n",
    "        return acc\n",
    "    results = reduce(transform_data, invitees, {})\n",
    "    return results"
   ]
  },
  {
   "cell_type": "code",
   "execution_count": 16,
   "metadata": {},
   "outputs": [],
   "source": [
    "invitees = [{\"email\": \"alex@example.com\", \"name\": \"Alex\", \"status\": \"attending\"},\n",
    "{\"email\": \"brian@example.com\", \"name\": \"Brian\", \"status\": \"declined\"},\n",
    "{\"email\": \"carol@example.com\", \"name\": \"Carol\", \"status\": \"pending\"},\n",
    "{\"email\": \"david@example.com\", \"name\": \"David\", \"status\": \"attending\"},\n",
    "{\"email\": \"maria@example.com\", \"name\": \"Maria\", \"status\": \"attending\"}]"
   ]
  },
  {
   "cell_type": "code",
   "execution_count": 17,
   "metadata": {},
   "outputs": [
    {
     "data": {
      "text/plain": [
       "{'alex@example.com': 'attending',\n",
       " 'brian@example.com': 'declined',\n",
       " 'carol@example.com': 'pending',\n",
       " 'david@example.com': 'attending',\n",
       " 'maria@example.com': 'attending'}"
      ]
     },
     "execution_count": 17,
     "metadata": {},
     "output_type": "execute_result"
    }
   ],
   "source": [
    "transform_invitees_data(invitees)"
   ]
  },
  {
   "cell_type": "code",
   "execution_count": null,
   "metadata": {},
   "outputs": [],
   "source": []
  }
 ],
 "metadata": {
  "kernelspec": {
   "display_name": "Python 3",
   "language": "python",
   "name": "python3"
  },
  "language_info": {
   "codemirror_mode": {
    "name": "ipython",
    "version": 3
   },
   "file_extension": ".py",
   "mimetype": "text/x-python",
   "name": "python",
   "nbconvert_exporter": "python",
   "pygments_lexer": "ipython3",
   "version": "3.8.2"
  }
 },
 "nbformat": 4,
 "nbformat_minor": 4
}
