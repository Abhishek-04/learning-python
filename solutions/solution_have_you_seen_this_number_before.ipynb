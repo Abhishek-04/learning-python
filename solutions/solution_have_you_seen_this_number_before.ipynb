{
 "cells": [
  {
   "cell_type": "markdown",
   "metadata": {},
   "source": [
    "# Have you seen this number before?\n",
    "\n",
    "Write a function that receives as an argument a list of numbers. For each number, append to an empty list the word \"YES\" if this number was previously encountered in the sequence, or \"NO\" if it was not.\n",
    "\n",
    "Example:\n",
    "```\n",
    "Input data:\n",
    "[1,2,1,2,4,5]\n",
    "Output:\n",
    "[\"NO\", \"NO\", \"YES\", \"YES\", \"NO\", \"NO\"]\n",
    "```"
   ]
  },
  {
   "cell_type": "code",
   "execution_count": 1,
   "metadata": {},
   "outputs": [],
   "source": [
    "def number_seen(list_of_numbers):\n",
    "    result_set = set()\n",
    "    result = []\n",
    "    for x in list_of_numbers:\n",
    "        if x not in result_set:\n",
    "            result_set.add(x)\n",
    "            result.append(\"NO\")\n",
    "        else:\n",
    "            result.append(\"YES\")\n",
    "    return result"
   ]
  },
  {
   "cell_type": "code",
   "execution_count": 2,
   "metadata": {},
   "outputs": [
    {
     "data": {
      "text/plain": [
       "['NO', 'NO', 'YES', 'YES', 'NO', 'NO']"
      ]
     },
     "execution_count": 2,
     "metadata": {},
     "output_type": "execute_result"
    }
   ],
   "source": [
    "number_seen([1,2,1,2,4,5])"
   ]
  },
  {
   "cell_type": "code",
   "execution_count": null,
   "metadata": {},
   "outputs": [],
   "source": []
  }
 ],
 "metadata": {
  "kernelspec": {
   "display_name": "Python 3",
   "language": "python",
   "name": "python3"
  },
  "language_info": {
   "codemirror_mode": {
    "name": "ipython",
    "version": 3
   },
   "file_extension": ".py",
   "mimetype": "text/x-python",
   "name": "python",
   "nbconvert_exporter": "python",
   "pygments_lexer": "ipython3",
   "version": "3.8.2"
  }
 },
 "nbformat": 4,
 "nbformat_minor": 4
}
