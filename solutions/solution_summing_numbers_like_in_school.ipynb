{
 "cells": [
  {
   "cell_type": "markdown",
   "metadata": {},
   "source": [
    "## Solution to exercise \"Summing numbers like in school\""
   ]
  },
  {
   "cell_type": "code",
   "execution_count": 21,
   "metadata": {},
   "outputs": [],
   "source": [
    "from itertools import zip_longest"
   ]
  },
  {
   "cell_type": "code",
   "execution_count": 22,
   "metadata": {},
   "outputs": [],
   "source": [
    "# number_1: 1564\n",
    "# number_2: 587\n",
    "#  1564\n",
    "# +0587\n",
    "# -----\n",
    "#  2151"
   ]
  },
  {
   "cell_type": "code",
   "execution_count": 28,
   "metadata": {},
   "outputs": [],
   "source": [
    "def sum_like_in_school(number_1, number_2, base=10):\n",
    "    digits_zipped = zip_longest(reversed(str(number_1)), reversed(str(number_2)), fillvalue = 0)\n",
    "    carry = 0\n",
    "    result = \"\"\n",
    "    for digit_1, digit_2 in digits_zipped:\n",
    "        sum_of_two_digits = int(digit_1) + int(digit_2) + carry\n",
    "        if sum_of_two_digits >= base:\n",
    "            carry = 1\n",
    "            result = str(sum_of_two_digits % base) + result\n",
    "        else:\n",
    "            carry = 0\n",
    "            result = str(sum_of_two_digits) + result\n",
    "    return int(result)"
   ]
  },
  {
   "cell_type": "code",
   "execution_count": 35,
   "metadata": {},
   "outputs": [
    {
     "data": {
      "text/plain": [
       "2040"
      ]
     },
     "execution_count": 35,
     "metadata": {},
     "output_type": "execute_result"
    }
   ],
   "source": [
    "sum_like_in_school(1564, 587, 11)"
   ]
  },
  {
   "cell_type": "code",
   "execution_count": null,
   "metadata": {},
   "outputs": [],
   "source": []
  }
 ],
 "metadata": {
  "kernelspec": {
   "display_name": "Python 3",
   "language": "python",
   "name": "python3"
  },
  "language_info": {
   "codemirror_mode": {
    "name": "ipython",
    "version": 3
   },
   "file_extension": ".py",
   "mimetype": "text/x-python",
   "name": "python",
   "nbconvert_exporter": "python",
   "pygments_lexer": "ipython3",
   "version": "3.8.2"
  }
 },
 "nbformat": 4,
 "nbformat_minor": 4
}
