{
 "cells": [
  {
   "cell_type": "markdown",
   "metadata": {},
   "source": [
    "# Learning the words in a strange order\n",
    "\n",
    "One of your friends wants to learn new English words, but wants to do it in a certain order. \n",
    "\n",
    "- First, he chooses short words\n",
    "\n",
    "- If the words are the same length, he chooses them in lexicographical order when reading from right to left (he is Arab!). \n",
    "\n",
    "Write a function that receives a list of words, and returns a list in the order specified.\n",
    "\n",
    "Here is an example:\n",
    "\n",
    "``` \n",
    "Input data:\n",
    "[\"west\", \"tax\", \"size\", \"sea\", \"use\", \"think\", \"yard\", \"word\", \"town\"]\n",
    "\n",
    "Program output:\n",
    "[\"sea\", \"use\", \"tax\", \"yard\", \"word\", \"size\", \"town\", \"west\", \"think\"]\n",
    "```"
   ]
  },
  {
   "cell_type": "code",
   "execution_count": 20,
   "metadata": {},
   "outputs": [],
   "source": [
    "def learning_words(list_of_words):\n",
    "    words = dict()\n",
    "    # words = {4: [\"west\", \"size\", \"yard\", \"word\", \"town\"], 3: [\"tax\", \"sea\", \"use\"], 5: [\"think\"]}\n",
    "    result = []\n",
    "    for word in list_of_words:\n",
    "        length = len(word)\n",
    "        words[length] = words.get(length, []) + [word]\n",
    "    for length in sorted(words):\n",
    "        # length = 3\n",
    "        # words[length] = [\"tax\", \"sea\", \"use\"]\n",
    "        # -> [\"xat\", \"aes\", \"esu\"]\n",
    "        # -> [\"aes\", \"esu\", \"xat\"]\n",
    "        # -> [\"sea\", \"use\", \"tax\"]\n",
    "        for word in sorted([x[::-1] for x in words[length]]):\n",
    "            result.append(word[::-1])\n",
    "    return result"
   ]
  },
  {
   "cell_type": "code",
   "execution_count": 21,
   "metadata": {},
   "outputs": [
    {
     "data": {
      "text/plain": [
       "['sea', 'use', 'tax', 'yard', 'word', 'size', 'town', 'west', 'think']"
      ]
     },
     "execution_count": 21,
     "metadata": {},
     "output_type": "execute_result"
    }
   ],
   "source": [
    "learning_words([\"west\", \"tax\", \"size\", \"sea\", \"use\", \"think\", \"yard\", \"word\", \"town\"])"
   ]
  },
  {
   "cell_type": "code",
   "execution_count": null,
   "metadata": {},
   "outputs": [],
   "source": []
  }
 ],
 "metadata": {
  "kernelspec": {
   "display_name": "Python 3",
   "language": "python",
   "name": "python3"
  },
  "language_info": {
   "codemirror_mode": {
    "name": "ipython",
    "version": 3
   },
   "file_extension": ".py",
   "mimetype": "text/x-python",
   "name": "python",
   "nbconvert_exporter": "python",
   "pygments_lexer": "ipython3",
   "version": "3.8.2"
  }
 },
 "nbformat": 4,
 "nbformat_minor": 4
}
