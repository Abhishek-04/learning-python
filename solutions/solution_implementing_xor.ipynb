{
 "cells": [
  {
   "cell_type": "markdown",
   "metadata": {},
   "source": [
    "# XOR\n",
    "\n",
    "XOR (exclusive or) is a boolean operator with the following truth table:\n",
    "\n",
    "``` \n",
    "XOR(0,0) = 0\n",
    "\n",
    "XOR(0,1) = 1\n",
    "\n",
    "XOR(1,0) = 1\n",
    "\n",
    "XOR(1,1) = 0\n",
    "```\n",
    "\n",
    "You must write a function that receives two lists as the arguments. These lists must consist of zeros and ones. Let's call them A and B.\n",
    "\n",
    "The function should return a list where the i-th element is `XOR(A[i], B[i])`.\n",
    "\n",
    "Example:\n",
    "\n",
    "``` \n",
    "Input data:\n",
    "First argument: [0, 0, 1, 1]\n",
    "Second argument: [0, 1, 0, 1]\n",
    "Output:\n",
    "[0, 1, 1, 0]\n",
    "```\n",
    "Please, use the map and zip functions."
   ]
  },
  {
   "cell_type": "code",
   "execution_count": 3,
   "metadata": {},
   "outputs": [],
   "source": [
    "def xor(A, B):\n",
    "    return list(map(lambda x: x[0] ^ x[1], zip(A, B)))"
   ]
  },
  {
   "cell_type": "code",
   "execution_count": 4,
   "metadata": {},
   "outputs": [
    {
     "data": {
      "text/plain": [
       "[0, 1, 1, 0]"
      ]
     },
     "execution_count": 4,
     "metadata": {},
     "output_type": "execute_result"
    }
   ],
   "source": [
    "xor([0,0,1,1], [0,1,0,1])"
   ]
  },
  {
   "cell_type": "code",
   "execution_count": 5,
   "metadata": {},
   "outputs": [
    {
     "data": {
      "text/plain": [
       "[0, 0, 1, 0]"
      ]
     },
     "execution_count": 5,
     "metadata": {},
     "output_type": "execute_result"
    }
   ],
   "source": [
    "xor([1,0,1,1], [1,0,0,1])"
   ]
  },
  {
   "cell_type": "code",
   "execution_count": null,
   "metadata": {},
   "outputs": [],
   "source": []
  }
 ],
 "metadata": {
  "kernelspec": {
   "display_name": "Python 3",
   "language": "python",
   "name": "python3"
  },
  "language_info": {
   "codemirror_mode": {
    "name": "ipython",
    "version": 3
   },
   "file_extension": ".py",
   "mimetype": "text/x-python",
   "name": "python",
   "nbconvert_exporter": "python",
   "pygments_lexer": "ipython3",
   "version": "3.8.2"
  }
 },
 "nbformat": 4,
 "nbformat_minor": 4
}
