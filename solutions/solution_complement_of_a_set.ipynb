{
 "cells": [
  {
   "cell_type": "markdown",
   "metadata": {},
   "source": [
    "# The complement of a set\n",
    "\n",
    "When I teach operations of a set, some people ask: How can we find the complement of a set?\n",
    "\n",
    "Well, you can't.\n",
    "\n",
    "The complement of a set is everything not in the set, but part of the \"universal set\". Without a definition of the universal set, you can't really give a standard-library definition of the complement of a set.\n",
    "\n",
    "Thus, the purpose of this task is to define a function that calculates the complement of a set. Your function will receive two arguments: the universal set and the set you want to calculate its complement.\n",
    "\n",
    "If you can't calculate the complement (because the set is not a subset of the universal set), your function should return None."
   ]
  },
  {
   "cell_type": "code",
   "execution_count": 7,
   "metadata": {},
   "outputs": [],
   "source": [
    "A = {'a','e','i','o','u'}\n",
    "universal_set = {'a','b','c','d','e','f','g','h','i','j','k','l','m','n','o','p','q',\n",
    "                 'r','s','t','u','v','w','x','y','z'}"
   ]
  },
  {
   "cell_type": "code",
   "execution_count": 8,
   "metadata": {},
   "outputs": [],
   "source": [
    "def complement(universal_set, A):\n",
    "    if A.issubset(universal_set):\n",
    "        return universal_set - A\n",
    "    else:\n",
    "        return None"
   ]
  },
  {
   "cell_type": "code",
   "execution_count": 9,
   "metadata": {},
   "outputs": [
    {
     "data": {
      "text/plain": [
       "{'b',\n",
       " 'c',\n",
       " 'd',\n",
       " 'f',\n",
       " 'g',\n",
       " 'h',\n",
       " 'j',\n",
       " 'k',\n",
       " 'l',\n",
       " 'm',\n",
       " 'n',\n",
       " 'p',\n",
       " 'q',\n",
       " 'r',\n",
       " 's',\n",
       " 't',\n",
       " 'v',\n",
       " 'w',\n",
       " 'x',\n",
       " 'y',\n",
       " 'z'}"
      ]
     },
     "execution_count": 9,
     "metadata": {},
     "output_type": "execute_result"
    }
   ],
   "source": [
    "complement(universal_set, A)"
   ]
  },
  {
   "cell_type": "code",
   "execution_count": null,
   "metadata": {},
   "outputs": [],
   "source": []
  }
 ],
 "metadata": {
  "kernelspec": {
   "display_name": "Python 3",
   "language": "python",
   "name": "python3"
  },
  "language_info": {
   "codemirror_mode": {
    "name": "ipython",
    "version": 3
   },
   "file_extension": ".py",
   "mimetype": "text/x-python",
   "name": "python",
   "nbconvert_exporter": "python",
   "pygments_lexer": "ipython3",
   "version": "3.8.2"
  }
 },
 "nbformat": 4,
 "nbformat_minor": 4
}
