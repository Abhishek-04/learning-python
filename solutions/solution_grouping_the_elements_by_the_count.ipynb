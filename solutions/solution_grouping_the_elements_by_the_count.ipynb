{
 "cells": [
  {
   "cell_type": "markdown",
   "metadata": {},
   "source": [
    "# Grouping the elements by the count\n",
    "\n",
    "So, we already know how to find the most common elements using the Counter class right? But what if two or more elements have the same count? Remember that the most_common() method returns a list of tuples. Instead of that, we want to return a dictionary where they keys are the counts and the values are lists that contain the elements with that count.\n",
    "\n",
    "Example:\n",
    "\n",
    "```\n",
    "Input data:\n",
    "[\"apple\", \"apple\", \"grapes\", \"grapes\", \"watermelon\"]\n",
    "Output:\n",
    "{2: [\"apple\", \"grapes\"], 1: [\"watermelon\"]}\n",
    "```\n"
   ]
  },
  {
   "cell_type": "code",
   "execution_count": 1,
   "metadata": {},
   "outputs": [],
   "source": [
    "from collections import Counter"
   ]
  },
  {
   "cell_type": "code",
   "execution_count": 2,
   "metadata": {},
   "outputs": [],
   "source": [
    "def find_counts(list_of_elements):\n",
    "    counts = Counter(list_of_elements)\n",
    "    result = dict()\n",
    "    for element, count in counts.items():\n",
    "        result[count] = result.setdefault(count, []) + [element]\n",
    "    return result"
   ]
  },
  {
   "cell_type": "code",
   "execution_count": 3,
   "metadata": {},
   "outputs": [
    {
     "data": {
      "text/plain": [
       "{2: ['apple', 'grapes'], 1: ['watermelon']}"
      ]
     },
     "execution_count": 3,
     "metadata": {},
     "output_type": "execute_result"
    }
   ],
   "source": [
    "find_counts([\"apple\", \"apple\", \"grapes\", \"grapes\", \"watermelon\"])"
   ]
  },
  {
   "cell_type": "code",
   "execution_count": null,
   "metadata": {},
   "outputs": [],
   "source": []
  }
 ],
 "metadata": {
  "kernelspec": {
   "display_name": "Python 3",
   "language": "python",
   "name": "python3"
  },
  "language_info": {
   "codemirror_mode": {
    "name": "ipython",
    "version": 3
   },
   "file_extension": ".py",
   "mimetype": "text/x-python",
   "name": "python",
   "nbconvert_exporter": "python",
   "pygments_lexer": "ipython3",
   "version": "3.8.2"
  }
 },
 "nbformat": 4,
 "nbformat_minor": 4
}
