{
 "cells": [
  {
   "cell_type": "markdown",
   "metadata": {},
   "source": [
    "# Fibonacci Numbers\n",
    "\n",
    "Let's apply what we learned about generators by creating the so famous Fibonacci sequence.\n",
    "\n",
    "You must create a generator that yields fibonacci numbers. This must be an infinite stream generator. Thus, the function won't receive any arguments. You should not use recursion.\n",
    "\n",
    "Instead, you should take advantage of the fact that generators \"remember\" the state of the function.\n",
    "\n",
    "Remember that the first element (index 0) is 0 and the second element (index 1) is 1."
   ]
  },
  {
   "cell_type": "code",
   "execution_count": 18,
   "metadata": {},
   "outputs": [],
   "source": [
    "def fibonacci_numbers():\n",
    "    a = 0\n",
    "    b = 1\n",
    "    yield a\n",
    "    yield b\n",
    "    while True:\n",
    "        c = a + b\n",
    "        a, b = b, c\n",
    "        yield b"
   ]
  },
  {
   "cell_type": "code",
   "execution_count": 19,
   "metadata": {},
   "outputs": [],
   "source": [
    "fib = fibonacci_numbers()"
   ]
  },
  {
   "cell_type": "code",
   "execution_count": 29,
   "metadata": {},
   "outputs": [
    {
     "data": {
      "text/plain": [
       "34"
      ]
     },
     "execution_count": 29,
     "metadata": {},
     "output_type": "execute_result"
    }
   ],
   "source": [
    "next(fib)"
   ]
  },
  {
   "cell_type": "code",
   "execution_count": null,
   "metadata": {},
   "outputs": [],
   "source": []
  }
 ],
 "metadata": {
  "kernelspec": {
   "display_name": "Python 3",
   "language": "python",
   "name": "python3"
  },
  "language_info": {
   "codemirror_mode": {
    "name": "ipython",
    "version": 3
   },
   "file_extension": ".py",
   "mimetype": "text/x-python",
   "name": "python",
   "nbconvert_exporter": "python",
   "pygments_lexer": "ipython3",
   "version": "3.8.2"
  }
 },
 "nbformat": 4,
 "nbformat_minor": 4
}
