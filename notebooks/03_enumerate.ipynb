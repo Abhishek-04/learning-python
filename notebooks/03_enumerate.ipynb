{
 "cells": [
  {
   "cell_type": "markdown",
   "metadata": {},
   "source": [
    "# Learn Python by doing #3\n",
    "## The enumerate function\n",
    "\n",
    "* Adds a counter to an iterable and returns it as an enumerate object.\n",
    "* The enumerate object is usually used in for loops."
   ]
  },
  {
   "cell_type": "code",
   "execution_count": 14,
   "metadata": {},
   "outputs": [
    {
     "name": "stdout",
     "output_type": "stream",
     "text": [
      "[(0, 'apple'), (1, 'pineapple'), (2, 'lemon'), (3, 'watermelon'), (4, 'grapes')]\n"
     ]
    }
   ],
   "source": [
    "fruits = [\"apple\", \"pineapple\", \"lemon\", \"watermelon\", \"grapes\"]\n",
    "enumerated_fruits = enumerate(fruits)\n",
    "print(list(enumerated_fruits))"
   ]
  },
  {
   "cell_type": "code",
   "execution_count": 16,
   "metadata": {},
   "outputs": [
    {
     "name": "stdout",
     "output_type": "stream",
     "text": [
      "file1.jpg\n",
      "file2.jpg\n",
      "file3.jpg\n",
      "file4.jpg\n",
      "file5.jpg\n"
     ]
    }
   ],
   "source": [
    "for index, element in enumerate(fruits, start=1):\n",
    "    filename = f\"file{index}.jpg\"\n",
    "    # do something with the file and the element\n",
    "    print(filename)"
   ]
  },
  {
   "cell_type": "code",
   "execution_count": null,
   "metadata": {},
   "outputs": [],
   "source": []
  }
 ],
 "metadata": {
  "kernelspec": {
   "display_name": "Python 3",
   "language": "python",
   "name": "python3"
  },
  "language_info": {
   "codemirror_mode": {
    "name": "ipython",
    "version": 3
   },
   "file_extension": ".py",
   "mimetype": "text/x-python",
   "name": "python",
   "nbconvert_exporter": "python",
   "pygments_lexer": "ipython3",
   "version": "3.6.9"
  }
 },
 "nbformat": 4,
 "nbformat_minor": 4
}
