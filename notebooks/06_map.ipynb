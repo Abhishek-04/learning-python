{
 "cells": [
  {
   "cell_type": "markdown",
   "metadata": {},
   "source": [
    "# Learn Python by doing #6\n",
    "## The map function\n",
    "\n",
    "* Applies a given function to each item of an iterable.\n",
    "* Returns a map object (which is an iterator).\n",
    "* Use it instead of loops whenever you can!"
   ]
  },
  {
   "cell_type": "markdown",
   "metadata": {},
   "source": [
    "**Example:** Capitalize all the strings of a list"
   ]
  },
  {
   "cell_type": "code",
   "execution_count": 46,
   "metadata": {},
   "outputs": [],
   "source": [
    "fruits = [\"apple\", \"watermelon\", \"pineapple\", \"grapes\"]"
   ]
  },
  {
   "cell_type": "code",
   "execution_count": 47,
   "metadata": {},
   "outputs": [
    {
     "name": "stdout",
     "output_type": "stream",
     "text": [
      "['Apple', 'Watermelon', 'Pineapple', 'Grapes']\n"
     ]
    }
   ],
   "source": [
    "result = list()\n",
    "for fruit in fruits:\n",
    "    result.append(fruit.capitalize())\n",
    "print(result)"
   ]
  },
  {
   "cell_type": "code",
   "execution_count": 55,
   "metadata": {},
   "outputs": [],
   "source": [
    "def process(fruit):\n",
    "    resulting_string = fruit.capitalize()\n",
    "    if fruit.endswith(\"s\"):\n",
    "        resulting_string += \" are great!\"\n",
    "    else:\n",
    "        resulting_string += \" is great!\"\n",
    "    return resulting_string"
   ]
  },
  {
   "cell_type": "code",
   "execution_count": 56,
   "metadata": {},
   "outputs": [
    {
     "name": "stdout",
     "output_type": "stream",
     "text": [
      "['Apple is great!', 'Watermelon is great!', 'Pineapple is great!', 'Grapes are great!']\n"
     ]
    }
   ],
   "source": [
    "result = map(process, fruits)\n",
    "print(list(result))"
   ]
  },
  {
   "cell_type": "code",
   "execution_count": null,
   "metadata": {},
   "outputs": [],
   "source": []
  }
 ],
 "metadata": {
  "kernelspec": {
   "display_name": "Python 3",
   "language": "python",
   "name": "python3"
  },
  "language_info": {
   "codemirror_mode": {
    "name": "ipython",
    "version": 3
   },
   "file_extension": ".py",
   "mimetype": "text/x-python",
   "name": "python",
   "nbconvert_exporter": "python",
   "pygments_lexer": "ipython3",
   "version": "3.6.9"
  }
 },
 "nbformat": 4,
 "nbformat_minor": 4
}
