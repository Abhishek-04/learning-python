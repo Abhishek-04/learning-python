{
 "cells": [
  {
   "cell_type": "markdown",
   "metadata": {},
   "source": [
    "# Learn Python by doing #10\n",
    "## Any\n",
    "* Returns True if any element of an iterable is True and False otherwise.\n",
    "* At least one value is True $\\rightarrow$ True\n",
    "* All values are False $\\rightarrow$ False\n",
    "* Empty iterable $\\rightarrow$ False"
   ]
  },
  {
   "cell_type": "code",
   "execution_count": 5,
   "metadata": {},
   "outputs": [
    {
     "data": {
      "text/plain": [
       "False"
      ]
     },
     "execution_count": 5,
     "metadata": {},
     "output_type": "execute_result"
    }
   ],
   "source": [
    "fruits = [\"apple\", \"pineapple\", \"watermelon\", \"avocado\"]\n",
    "fruits_mapped = map(lambda fruit: len(fruit) > 50, fruits)\n",
    "any([])"
   ]
  },
  {
   "cell_type": "markdown",
   "metadata": {},
   "source": [
    "## All\n",
    "* Return True if all elements of an iterable is True and False otherwise.\n",
    "* At least one value is False $\\rightarrow$ False\n",
    "* All values are True $\\rightarrow$ True\n",
    "* Empty iterable $\\rightarrow$ True"
   ]
  },
  {
   "cell_type": "code",
   "execution_count": 8,
   "metadata": {},
   "outputs": [
    {
     "data": {
      "text/plain": [
       "True"
      ]
     },
     "execution_count": 8,
     "metadata": {},
     "output_type": "execute_result"
    }
   ],
   "source": [
    "fruits_mapped = map(lambda fruit: len(fruit) < 50, fruits)\n",
    "all([])"
   ]
  },
  {
   "cell_type": "code",
   "execution_count": null,
   "metadata": {},
   "outputs": [],
   "source": []
  }
 ],
 "metadata": {
  "kernelspec": {
   "display_name": "Python 3",
   "language": "python",
   "name": "python3"
  },
  "language_info": {
   "codemirror_mode": {
    "name": "ipython",
    "version": 3
   },
   "file_extension": ".py",
   "mimetype": "text/x-python",
   "name": "python",
   "nbconvert_exporter": "python",
   "pygments_lexer": "ipython3",
   "version": "3.6.9"
  }
 },
 "nbformat": 4,
 "nbformat_minor": 4
}
