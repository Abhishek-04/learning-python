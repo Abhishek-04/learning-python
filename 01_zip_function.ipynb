{
 "cells": [
  {
   "cell_type": "markdown",
   "metadata": {},
   "source": [
    "# Learn Python by doing #1\n",
    "## The zip function\n",
    "\n",
    "* Takes iterables (lists, dictionaries, tuples, strings, etc.) and \"zips\" them into tuples.\n",
    "* Is used for parallel iteration\n",
    "* Returns a `zip` object, which is an iterator of tuples"
   ]
  },
  {
   "cell_type": "markdown",
   "metadata": {},
   "source": [
    "## Lists"
   ]
  },
  {
   "cell_type": "code",
   "execution_count": 80,
   "metadata": {},
   "outputs": [],
   "source": [
    "countries = [\"Ecuador\", \"Perú\", \"Colombia\", \"USA\", \"Chile\"]\n",
    "capitals = [\"Quito\", \"Lima\", \"Bogotá\", \"Washington DC\", \"Santiago\"]\n",
    "cities = [\"Guayaquil\", \"Trujillo\", \"Medellín\", \"New York\", \"Valparaíso\"]\n",
    "countries_and_capitals = zip(countries, capitals, cities)"
   ]
  },
  {
   "cell_type": "code",
   "execution_count": 81,
   "metadata": {},
   "outputs": [
    {
     "data": {
      "text/plain": [
       "[('Ecuador', 'Quito', 'Guayaquil'),\n",
       " ('Perú', 'Lima', 'Trujillo'),\n",
       " ('Colombia', 'Bogotá', 'Medellín'),\n",
       " ('USA', 'Washington DC', 'New York'),\n",
       " ('Chile', 'Santiago', 'Valparaíso')]"
      ]
     },
     "execution_count": 81,
     "metadata": {},
     "output_type": "execute_result"
    }
   ],
   "source": [
    "list(countries_and_capitals)"
   ]
  },
  {
   "cell_type": "markdown",
   "metadata": {},
   "source": [
    "## Dictionaries"
   ]
  },
  {
   "cell_type": "code",
   "execution_count": 87,
   "metadata": {},
   "outputs": [],
   "source": [
    "products = {\"apple\": 0.5, \"pineapple\": 0.7}\n",
    "tech_products = {\"iPhone\": 1000, \"Windows\": 600}\n",
    "products_and_tech_products = zip(products.values(), tech_products)"
   ]
  },
  {
   "cell_type": "code",
   "execution_count": 88,
   "metadata": {},
   "outputs": [
    {
     "data": {
      "text/plain": [
       "[(0.5, 'iPhone'), (0.7, 'Windows')]"
      ]
     },
     "execution_count": 88,
     "metadata": {},
     "output_type": "execute_result"
    }
   ],
   "source": [
    "list(products_and_tech_products)"
   ]
  },
  {
   "cell_type": "markdown",
   "metadata": {},
   "source": [
    "## Tuples"
   ]
  },
  {
   "cell_type": "code",
   "execution_count": 89,
   "metadata": {},
   "outputs": [],
   "source": [
    "countries = (\"Ecuador\", \"Perú\", \"Colombia\", \"USA\", \"Chile\")\n",
    "capitals = (\"Quito\", \"Lima\", \"Bogotá\", \"Washington DC\", \"Santiago\")\n",
    "cities = (\"Guayaquil\", \"Trujillo\", \"Medellín\", \"New York\", \"Valparaíso\")\n",
    "countries_and_capitals = zip(countries, capitals, cities)"
   ]
  },
  {
   "cell_type": "code",
   "execution_count": 90,
   "metadata": {},
   "outputs": [
    {
     "data": {
      "text/plain": [
       "[('Ecuador', 'Quito', 'Guayaquil'),\n",
       " ('Perú', 'Lima', 'Trujillo'),\n",
       " ('Colombia', 'Bogotá', 'Medellín'),\n",
       " ('USA', 'Washington DC', 'New York'),\n",
       " ('Chile', 'Santiago', 'Valparaíso')]"
      ]
     },
     "execution_count": 90,
     "metadata": {},
     "output_type": "execute_result"
    }
   ],
   "source": [
    "list(countries_and_capitals)"
   ]
  },
  {
   "cell_type": "markdown",
   "metadata": {},
   "source": [
    "## Strings"
   ]
  },
  {
   "cell_type": "code",
   "execution_count": 91,
   "metadata": {},
   "outputs": [],
   "source": [
    "country = \"Ecuador\"\n",
    "capital = \"Quito\"\n",
    "country_and_capital = zip(country, capital)"
   ]
  },
  {
   "cell_type": "code",
   "execution_count": 93,
   "metadata": {},
   "outputs": [
    {
     "data": {
      "text/plain": [
       "[('E', 'Q'), ('c', 'u'), ('u', 'i'), ('a', 't'), ('d', 'o')]"
      ]
     },
     "execution_count": 93,
     "metadata": {},
     "output_type": "execute_result"
    }
   ],
   "source": [
    "list(country_and_capital)"
   ]
  },
  {
   "cell_type": "code",
   "execution_count": null,
   "metadata": {},
   "outputs": [],
   "source": []
  }
 ],
 "metadata": {
  "kernelspec": {
   "display_name": "Python 3",
   "language": "python",
   "name": "python3"
  },
  "language_info": {
   "codemirror_mode": {
    "name": "ipython",
    "version": 3
   },
   "file_extension": ".py",
   "mimetype": "text/x-python",
   "name": "python",
   "nbconvert_exporter": "python",
   "pygments_lexer": "ipython3",
   "version": "3.6.9"
  }
 },
 "nbformat": 4,
 "nbformat_minor": 4
}
